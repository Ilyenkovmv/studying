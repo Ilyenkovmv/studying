{
 "cells": [
  {
   "cell_type": "code",
   "execution_count": 4,
   "id": "5e2a989c-6c11-4a32-b1a9-493b50327f03",
   "metadata": {},
   "outputs": [
    {
     "name": "stdin",
     "output_type": "stream",
     "text": [
      " 2\n",
      " 4\n"
     ]
    },
    {
     "name": "stdout",
     "output_type": "stream",
     "text": [
      "4\n"
     ]
    }
   ],
   "source": [
    "a = int(input())\n",
    "b = int(input())\n",
    "d = max(a,b)\n",
    "while True:\n",
    "    if d%a ==0 and d%b ==0:\n",
    "        print (d)\n",
    "        break\n",
    "    else:\n",
    "        d +=1"
   ]
  },
  {
   "cell_type": "code",
   "execution_count": 8,
   "id": "cd7e2c47-5e9a-46d7-bc22-54c88041445b",
   "metadata": {},
   "outputs": [
    {
     "name": "stdin",
     "output_type": "stream",
     "text": [
      " 2\n",
      " 1\n"
     ]
    },
    {
     "name": "stdout",
     "output_type": "stream",
     "text": [
      "2\n"
     ]
    }
   ],
   "source": [
    "a,b = int(input()), int(input())\n",
    "if a>b:\n",
    "    d = a\n",
    "    while d%a !=0:\n",
    "        d +=a\n",
    "elif b>a:\n",
    "    d = b\n",
    "    while d%b !=0:\n",
    "        d +=b\n",
    "else:\n",
    "    d=a\n",
    "print (d)\n",
    "   \n"
   ]
  },
  {
   "cell_type": "code",
   "execution_count": 9,
   "id": "1a5c8472-e852-418c-8561-f27d2f88dbb4",
   "metadata": {},
   "outputs": [
    {
     "name": "stdin",
     "output_type": "stream",
     "text": [
      " 1\n",
      " 2\n"
     ]
    },
    {
     "name": "stdout",
     "output_type": "stream",
     "text": [
      "2\n"
     ]
    }
   ],
   "source": [
    "import math\n",
    "A=int(input())\n",
    "B=int(input())\n",
    "print (A*B//math.gcd(A,B))"
   ]
  },
  {
   "cell_type": "code",
   "execution_count": null,
   "id": "e3829369-4b27-4cda-b08c-0058b7153630",
   "metadata": {},
   "outputs": [],
   "source": []
  },
  {
   "cell_type": "code",
   "execution_count": null,
   "id": "aa407142-125a-4f48-beaf-abd6a53f315b",
   "metadata": {},
   "outputs": [],
   "source": []
  },
  {
   "cell_type": "code",
   "execution_count": null,
   "id": "cc46f3c3-dab2-4a9a-bc06-fbd0f35ac51c",
   "metadata": {},
   "outputs": [],
   "source": []
  },
  {
   "cell_type": "code",
   "execution_count": null,
   "id": "16dcb6f6-b2c6-41c4-acd6-95c84b7c5c00",
   "metadata": {},
   "outputs": [],
   "source": []
  },
  {
   "cell_type": "code",
   "execution_count": null,
   "id": "89ec95a1-13c8-4ff0-8285-a5d3abb9be48",
   "metadata": {},
   "outputs": [],
   "source": []
  },
  {
   "cell_type": "code",
   "execution_count": null,
   "id": "f7d39194-29f5-4e56-a21c-a6d3b52b6f48",
   "metadata": {},
   "outputs": [],
   "source": []
  },
  {
   "cell_type": "code",
   "execution_count": null,
   "id": "d4470c2f-a5d5-44d4-b60c-0e7020f43731",
   "metadata": {},
   "outputs": [],
   "source": []
  }
 ],
 "metadata": {
  "kernelspec": {
   "display_name": "Python 3 (ipykernel)",
   "language": "python",
   "name": "python3"
  },
  "language_info": {
   "codemirror_mode": {
    "name": "ipython",
    "version": 3
   },
   "file_extension": ".py",
   "mimetype": "text/x-python",
   "name": "python",
   "nbconvert_exporter": "python",
   "pygments_lexer": "ipython3",
   "version": "3.9.13"
  }
 },
 "nbformat": 4,
 "nbformat_minor": 5
}
