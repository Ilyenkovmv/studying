{
 "cells": [
  {
   "cell_type": "code",
   "execution_count": 18,
   "id": "285c9555-cb24-4ad1-b7ec-726b17ff622b",
   "metadata": {},
   "outputs": [
    {
     "name": "stdout",
     "output_type": "stream",
     "text": [
      "100 99 98 97 96 95 94 93 92 91 90 89 88 87 86 85 84 83 82 81 80 79 78 77 76 75 74 73 72 71 70 69 68 67 66 65 64 63 62 61 60 59 58 57 56 55 54 53 52 51 50 49 48 47 46 45 44 43 42 41 40 39 38 37 36 35 34 33 32 31 30 29 28 27 26 25 24 23 22 21 20 19 18 17 16 15 14 13 12 11 10 9 8 7 6 5 4 3 2 1 0 \n",
      " Условие больше не выполняется\n"
     ]
    }
   ],
   "source": [
    "a = 100\n",
    "while 100>=a>=0 :\n",
    "    print (a, end = ' ')\n",
    "    a -=1\n",
    "print('\\n','Условие больше не выполняется')"
   ]
  },
  {
   "cell_type": "code",
   "execution_count": null,
   "id": "03fb4425-7eab-455d-9337-8b8866cf4194",
   "metadata": {},
   "outputs": [],
   "source": [
    "a = int(input())\n",
    "while 5<=a<=55:\n",
    "    if a %2 == 0:\n",
    "    print (a, end =' ')\n",
    "    a -=1\n",
    "    else : \n",
    "        print ('Других нечетных нет')"
   ]
  },
  {
   "cell_type": "code",
   "execution_count": null,
   "id": "3cc83577-a658-433d-9ccc-b3dcb73e8404",
   "metadata": {},
   "outputs": [],
   "source": []
  },
  {
   "cell_type": "code",
   "execution_count": null,
   "id": "13f5f224-e78b-49f0-84e8-90765668bb61",
   "metadata": {},
   "outputs": [],
   "source": []
  },
  {
   "cell_type": "code",
   "execution_count": null,
   "id": "322311f8-bb7d-4f5f-873e-cc18145a1eae",
   "metadata": {},
   "outputs": [],
   "source": []
  },
  {
   "cell_type": "code",
   "execution_count": null,
   "id": "de66ad1a-1e24-4365-8c71-7c17fd0f35db",
   "metadata": {},
   "outputs": [],
   "source": []
  },
  {
   "cell_type": "code",
   "execution_count": null,
   "id": "01982fdc-b759-41b0-b438-edf5335a8629",
   "metadata": {},
   "outputs": [],
   "source": []
  },
  {
   "cell_type": "code",
   "execution_count": null,
   "id": "246bb8e3-66cd-4247-a312-19df3c88dfc1",
   "metadata": {},
   "outputs": [],
   "source": []
  },
  {
   "cell_type": "code",
   "execution_count": null,
   "id": "dbd2e561-0ae2-405b-8529-2ee23e8b346e",
   "metadata": {},
   "outputs": [],
   "source": []
  },
  {
   "cell_type": "code",
   "execution_count": null,
   "id": "ba01ff5f-a2db-4e28-800b-5030d694a0de",
   "metadata": {},
   "outputs": [],
   "source": []
  },
  {
   "cell_type": "code",
   "execution_count": null,
   "id": "505d680f-2636-4909-8104-610e963919c3",
   "metadata": {},
   "outputs": [],
   "source": []
  },
  {
   "cell_type": "code",
   "execution_count": null,
   "id": "5e3785e2-6e64-4bb2-bec6-767bb3f6746c",
   "metadata": {},
   "outputs": [],
   "source": []
  },
  {
   "cell_type": "code",
   "execution_count": null,
   "id": "6e8fd324-f1e9-4f3d-ac36-74594ac3ab8e",
   "metadata": {},
   "outputs": [],
   "source": []
  },
  {
   "cell_type": "code",
   "execution_count": null,
   "id": "5c98aad4-1b39-4b05-bddd-e512bfdf0a12",
   "metadata": {},
   "outputs": [],
   "source": []
  },
  {
   "cell_type": "code",
   "execution_count": null,
   "id": "bdaac096-d085-4c9c-a6f6-8c30e3bc8c2b",
   "metadata": {},
   "outputs": [],
   "source": []
  },
  {
   "cell_type": "code",
   "execution_count": null,
   "id": "78b61f91-8939-45f9-8f7f-ca54ed4d28af",
   "metadata": {},
   "outputs": [],
   "source": []
  },
  {
   "cell_type": "code",
   "execution_count": null,
   "id": "c9655a65-12bb-4ea1-9833-3bee4d4da672",
   "metadata": {},
   "outputs": [],
   "source": []
  },
  {
   "cell_type": "code",
   "execution_count": null,
   "id": "85f060be-003d-42b3-b8a3-6563fda6b134",
   "metadata": {},
   "outputs": [],
   "source": []
  },
  {
   "cell_type": "code",
   "execution_count": null,
   "id": "6c208653-d1c2-4865-b6df-ca755d4f8971",
   "metadata": {},
   "outputs": [],
   "source": []
  },
  {
   "cell_type": "code",
   "execution_count": null,
   "id": "0372115a-f8b9-410d-9206-b9ab7221d1c5",
   "metadata": {},
   "outputs": [],
   "source": []
  },
  {
   "cell_type": "code",
   "execution_count": null,
   "id": "62b8007f-dfce-4374-aee0-a4b19fe62c9d",
   "metadata": {},
   "outputs": [],
   "source": []
  },
  {
   "cell_type": "code",
   "execution_count": null,
   "id": "5aa96d15-74ee-4ab9-b264-7bd50fe78718",
   "metadata": {},
   "outputs": [],
   "source": []
  },
  {
   "cell_type": "code",
   "execution_count": null,
   "id": "51a9bc99-8628-4abd-a3c6-cfe58b7143b4",
   "metadata": {},
   "outputs": [],
   "source": []
  },
  {
   "cell_type": "code",
   "execution_count": null,
   "id": "f4a8709c-e7f3-4048-b91e-6b380b024c97",
   "metadata": {},
   "outputs": [],
   "source": []
  },
  {
   "cell_type": "code",
   "execution_count": null,
   "id": "a7429517-35eb-4388-ab06-8711817019eb",
   "metadata": {},
   "outputs": [],
   "source": []
  },
  {
   "cell_type": "code",
   "execution_count": null,
   "id": "b56b456f-7bfa-4a7b-9698-715e90c8df9f",
   "metadata": {},
   "outputs": [],
   "source": []
  },
  {
   "cell_type": "code",
   "execution_count": null,
   "id": "1c26fa85-4e3d-4a94-8aab-1203fde5c437",
   "metadata": {},
   "outputs": [],
   "source": []
  },
  {
   "cell_type": "code",
   "execution_count": null,
   "id": "dc209d19-b39e-48e4-9876-cf4e1546c4c3",
   "metadata": {},
   "outputs": [],
   "source": []
  },
  {
   "cell_type": "code",
   "execution_count": null,
   "id": "ef8efaf7-a57d-4b2c-bb22-7c7d4134e9ea",
   "metadata": {},
   "outputs": [],
   "source": []
  },
  {
   "cell_type": "code",
   "execution_count": null,
   "id": "5f18e4e4-f8fb-42a5-913f-fc273e57f8bc",
   "metadata": {},
   "outputs": [],
   "source": []
  },
  {
   "cell_type": "code",
   "execution_count": null,
   "id": "72611bb1-81be-442f-bfb8-e2b40722b940",
   "metadata": {},
   "outputs": [],
   "source": []
  },
  {
   "cell_type": "code",
   "execution_count": null,
   "id": "92fc6da6-775f-4125-b991-68322c745d7a",
   "metadata": {},
   "outputs": [],
   "source": []
  }
 ],
 "metadata": {
  "kernelspec": {
   "display_name": "Python 3 (ipykernel)",
   "language": "python",
   "name": "python3"
  },
  "language_info": {
   "codemirror_mode": {
    "name": "ipython",
    "version": 3
   },
   "file_extension": ".py",
   "mimetype": "text/x-python",
   "name": "python",
   "nbconvert_exporter": "python",
   "pygments_lexer": "ipython3",
   "version": "3.9.13"
  }
 },
 "nbformat": 4,
 "nbformat_minor": 5
}
