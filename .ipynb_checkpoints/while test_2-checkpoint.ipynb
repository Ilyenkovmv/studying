{
 "cells": [
  {
   "cell_type": "code",
   "execution_count": 3,
   "id": "5e2a989c-6c11-4a32-b1a9-493b50327f03",
   "metadata": {},
   "outputs": [
    {
     "name": "stdin",
     "output_type": "stream",
     "text": [
      " 15\n",
      " 15\n"
     ]
    },
    {
     "name": "stdout",
     "output_type": "stream",
     "text": [
      "15\n"
     ]
    }
   ],
   "source": [
    "a = int(input())\n",
    "b = int(input())\n",
    "d = max(a,b)\n",
    "while True:\n",
    "    if d%a ==0 and d%b ==0:\n",
    "        print (d)\n",
    "        break\n",
    "    else:\n",
    "        d +=1"
   ]
  },
  {
   "cell_type": "code",
   "execution_count": null,
   "id": "89ec95a1-13c8-4ff0-8285-a5d3abb9be48",
   "metadata": {},
   "outputs": [],
   "source": []
  },
  {
   "cell_type": "code",
   "execution_count": null,
   "id": "f7d39194-29f5-4e56-a21c-a6d3b52b6f48",
   "metadata": {},
   "outputs": [],
   "source": []
  },
  {
   "cell_type": "code",
   "execution_count": null,
   "id": "d4470c2f-a5d5-44d4-b60c-0e7020f43731",
   "metadata": {},
   "outputs": [],
   "source": []
  }
 ],
 "metadata": {
  "kernelspec": {
   "display_name": "Python 3 (ipykernel)",
   "language": "python",
   "name": "python3"
  },
  "language_info": {
   "codemirror_mode": {
    "name": "ipython",
    "version": 3
   },
   "file_extension": ".py",
   "mimetype": "text/x-python",
   "name": "python",
   "nbconvert_exporter": "python",
   "pygments_lexer": "ipython3",
   "version": "3.9.13"
  }
 },
 "nbformat": 4,
 "nbformat_minor": 5
}
