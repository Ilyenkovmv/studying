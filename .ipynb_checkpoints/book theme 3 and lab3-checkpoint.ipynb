{
 "cells": [
  {
   "cell_type": "code",
   "execution_count": 1,
   "id": "f5b8a58b-a4b3-4a47-a8a3-86e1b94908d1",
   "metadata": {},
   "outputs": [
    {
     "name": "stdout",
     "output_type": "stream",
     "text": [
      "a\n",
      "a\n",
      "a\n",
      "b\n",
      "b\n",
      "b\n"
     ]
    }
   ],
   "source": [
    "# Что это выводит? Почему?\n",
    "for i in range(3):\n",
    "    print (\"a\")\n",
    "for j in range(3):\n",
    "    print (\"b\")"
   ]
  },
  {
   "cell_type": "code",
   "execution_count": 2,
   "id": "e2b6590c-e9cd-41b6-bbf7-47f64991ef78",
   "metadata": {},
   "outputs": [
    {
     "name": "stdout",
     "output_type": "stream",
     "text": [
      "a\n",
      "b\n",
      "b\n",
      "b\n",
      "a\n",
      "b\n",
      "b\n",
      "b\n",
      "a\n",
      "b\n",
      "b\n",
      "b\n"
     ]
    }
   ],
   "source": [
    "# Что это выводит? Почему?\n",
    "for i in range(3):\n",
    "    print (\"a\")\n",
    "    for j in range(3):\n",
    "        print (\"b\")"
   ]
  },
  {
   "cell_type": "code",
   "execution_count": 4,
   "id": "c1d0ca1e-64d1-4fff-9243-cf7ef9e04d66",
   "metadata": {},
   "outputs": [
    {
     "name": "stdin",
     "output_type": "stream",
     "text": [
      "Введите число:  9\n",
      "Введите число:  22\n",
      "Введите число:  34\n",
      "Введите число:  54\n",
      "Введите число:  5\n"
     ]
    },
    {
     "name": "stdout",
     "output_type": "stream",
     "text": [
      "Сумма чисел:  124\n"
     ]
    }
   ],
   "source": [
    "total=0\n",
    "for i in range(5):\n",
    "    newNumber = int (input( \"Введите число: \" ))\n",
    "    total += newNumber\n",
    "print(\"Сумма чисел: \",total)"
   ]
  },
  {
   "cell_type": "code",
   "execution_count": 7,
   "id": "7c4adc73-d0c0-41c7-956d-0f3490461da6",
   "metadata": {},
   "outputs": [
    {
     "name": "stdout",
     "output_type": "stream",
     "text": [
      "45\n"
     ]
    }
   ],
   "source": [
    "sum=0\n",
    "for i in range(1,10):\n",
    "    sum = sum + i\n",
    "print(sum)"
   ]
  },
  {
   "cell_type": "code",
   "execution_count": 8,
   "id": "b7e16c03-05d7-4da3-9fd8-ebd059d78e74",
   "metadata": {},
   "outputs": [
    {
     "name": "stdin",
     "output_type": "stream",
     "text": [
      "Введите число:  0\n",
      "Введите число:  0\n",
      "Введите число:  2\n",
      "Введите число:  2\n",
      "Введите число:  1\n"
     ]
    },
    {
     "name": "stdout",
     "output_type": "stream",
     "text": [
      "Вы ввели ноль  2  раз\n"
     ]
    }
   ],
   "source": [
    "total=0\n",
    "for i in range(5):\n",
    "    newNumber = int (input( \"Введите число: \" ))\n",
    "    if newNumber == 0:\n",
    "        total += 1\n",
    "print(\"Вы ввели ноль \",total,\" раз\")"
   ]
  },
  {
   "cell_type": "code",
   "execution_count": 9,
   "id": "f54917d7-5a9c-4339-81c1-cf59f6107ec3",
   "metadata": {},
   "outputs": [
    {
     "name": "stdout",
     "output_type": "stream",
     "text": [
      "10\n"
     ]
    }
   ],
   "source": [
    "a=0\n",
    "for i in range(10):\n",
    "    a=a+1\n",
    "print(a)"
   ]
  },
  {
   "cell_type": "code",
   "execution_count": 10,
   "id": "741ff8ae-0c87-41b2-bc65-adcf10a6355e",
   "metadata": {},
   "outputs": [
    {
     "name": "stdout",
     "output_type": "stream",
     "text": [
      "20\n"
     ]
    }
   ],
   "source": [
    "a=0\n",
    "for i in range(10):\n",
    "    a=a+1\n",
    "for j in range(10):\n",
    "    a=a+1\n",
    "print(a)"
   ]
  },
  {
   "cell_type": "code",
   "execution_count": 13,
   "id": "25c2bf0c-833b-4a51-a234-67b8fcc88697",
   "metadata": {},
   "outputs": [
    {
     "name": "stdout",
     "output_type": "stream",
     "text": [
      "110\n"
     ]
    }
   ],
   "source": [
    "a=0\n",
    "for i in range(10):\n",
    "    a=a+1\n",
    "    for j in range(10):\n",
    "        a=a+1\n",
    "print(a)"
   ]
  },
  {
   "cell_type": "code",
   "execution_count": null,
   "id": "ed197a5d-4867-461f-b7db-b78db5ac9900",
   "metadata": {},
   "outputs": [],
   "source": [
    "J\n",
    "0 (1,2,3,4,5,6,7,8,9,10)\n",
    "1 (11,20)\n",
    "2\n",
    "3\n",
    "4\n",
    "5\n",
    "6\n",
    "7\n",
    "8\n",
    "9 (91,100)\n",
    "I \n",
    "0 101\n",
    "1 102\n",
    "2 103\n",
    "9 110"
   ]
  },
  {
   "cell_type": "code",
   "execution_count": 15,
   "id": "f4b9bb58-7967-459b-bb5e-9c926aa0ab2f",
   "metadata": {},
   "outputs": [
    {
     "name": "stdout",
     "output_type": "stream",
     "text": [
      "10\n",
      "9\n",
      "8\n",
      "7\n",
      "6\n",
      "5\n",
      "4\n",
      "3\n",
      "2\n",
      "1\n",
      "0\n"
     ]
    }
   ],
   "source": [
    "i = 10\n",
    "while i >= 0:\n",
    "    print (i)\n",
    "    i -= 1"
   ]
  },
  {
   "cell_type": "code",
   "execution_count": 16,
   "id": "93f36764-36e8-4132-aef1-9c27b2e38238",
   "metadata": {},
   "outputs": [
    {
     "name": "stdout",
     "output_type": "stream",
     "text": [
      "1\n",
      "2\n",
      "3\n",
      "4\n",
      "5\n",
      "6\n",
      "7\n",
      "8\n",
      "9\n",
      "10\n"
     ]
    }
   ],
   "source": [
    "i=1\n",
    "while i <= 10:\n",
    "    print (i)\n",
    "    i +=1"
   ]
  },
  {
   "cell_type": "code",
   "execution_count": 24,
   "id": "a5606a64-b651-451b-a2ff-a700347b8519",
   "metadata": {},
   "outputs": [
    {
     "name": "stdout",
     "output_type": "stream",
     "text": [
      "145\n"
     ]
    }
   ],
   "source": [
    "a = random.randrange(100,201)\n",
    "print (a)"
   ]
  },
  {
   "cell_type": "code",
   "execution_count": 34,
   "id": "509e5182-657f-483e-8dc9-0686994944ea",
   "metadata": {},
   "outputs": [
    {
     "name": "stdout",
     "output_type": "stream",
     "text": [
      "11.122144453917864\n"
     ]
    }
   ],
   "source": [
    "a = random.random() *2+10\n",
    "print(a)"
   ]
  },
  {
   "cell_type": "code",
   "execution_count": 36,
   "id": "aa3a0f5a-82fb-4a4d-a7cc-9cfab1f5066a",
   "metadata": {},
   "outputs": [
    {
     "name": "stdin",
     "output_type": "stream",
     "text": [
      "Введите свой возраст 22\n"
     ]
    },
    {
     "name": "stdout",
     "output_type": "stream",
     "text": [
      "22\n"
     ]
    }
   ],
   "source": [
    "value=int(input(\"Введите свой возраст\"))\n",
    "print (value)"
   ]
  },
  {
   "cell_type": "code",
   "execution_count": 38,
   "id": "93f4ba28-37fa-4729-9104-a45ed98135d0",
   "metadata": {},
   "outputs": [
    {
     "name": "stdin",
     "output_type": "stream",
     "text": [
      "Температура 99\n"
     ]
    },
    {
     "name": "stdout",
     "output_type": "stream",
     "text": [
      "Снаружи жарко.\n"
     ]
    }
   ],
   "source": [
    "temperature = float (input(\"Температура\"))\n",
    "if temperature >= 90:\n",
    "    print(\"Снаружи жарко.\")"
   ]
  },
  {
   "cell_type": "code",
   "execution_count": 44,
   "id": "ae7435da-73bb-4f37-a672-774efcf9e437",
   "metadata": {},
   "outputs": [
    {
     "name": "stdout",
     "output_type": "stream",
     "text": [
      "Welcome to Oregon Trail!\n"
     ]
    },
    {
     "name": "stdin",
     "output_type": "stream",
     "text": [
      "What is your occupation? B\n"
     ]
    },
    {
     "name": "stdout",
     "output_type": "stream",
     "text": [
      "A. Banker\n",
      "B. Carpenter\n",
      "C. Farmer\n",
      "money=70\n"
     ]
    }
   ],
   "source": [
    "print(\"Welcome to Oregon Trail!\")\n",
    "userInput = input(\"What is your occupation?\")\n",
    " \n",
    "print(\"A. Banker\")\n",
    "print(\"B. Carpenter\")\n",
    "print(\"C. Farmer\")\n",
    " \n",
    "if userInput == 'A':\n",
    "    print('money=100')\n",
    "elif userInput == 'B':\n",
    "    print('money=70')\n",
    "elif userInput == 'C':\n",
    "    print('money=50')"
   ]
  },
  {
   "cell_type": "code",
   "execution_count": 48,
   "id": "85204280-524d-447f-bed2-a0c72e702d33",
   "metadata": {},
   "outputs": [
    {
     "name": "stdin",
     "output_type": "stream",
     "text": [
      "Введите число: 99\n"
     ]
    },
    {
     "name": "stdout",
     "output_type": "stream",
     "text": [
      "Вы ввели небольшое число.\n"
     ]
    }
   ],
   "source": [
    "x= int(input(\"Введите число:\"))\n",
    "if x > 100:\n",
    "    print (\"Вы ввели большое число.\")\n",
    "else:\n",
    "    print (\"Вы ввели небольшое число.\")\n"
   ]
  },
  {
   "cell_type": "code",
   "execution_count": 53,
   "id": "ee5f6672-c71d-46f1-87cc-9e86125c34a6",
   "metadata": {},
   "outputs": [
    {
     "name": "stdin",
     "output_type": "stream",
     "text": [
      "Количество 10 копеечных моент 3\n",
      "Количество 50 копеечных монет 5\n",
      "Количество рублевых монет 6\n"
     ]
    },
    {
     "name": "stdout",
     "output_type": "stream",
     "text": [
      "Общая ценность монет =  8 рублей, 80 копеек\n"
     ]
    }
   ],
   "source": [
    "a = int(input('Количество 10 копеечных моент'))\n",
    "b = int(input('Количество 50 копеечных монет'))\n",
    "c = int(input('Количество рублевых монет'))\n",
    "print('Общая ценность монет = ', ((a*10)+(b*50))//100+c, 'рублей,',((a*10)+(b*50))%100,'копеек',)"
   ]
  },
  {
   "cell_type": "code",
   "execution_count": 54,
   "id": "93b2574f-d351-4ed9-80c0-8ecb6b235c67",
   "metadata": {},
   "outputs": [
    {
     "name": "stdout",
     "output_type": "stream",
     "text": [
      "Mathew\n",
      "Mathew\n",
      "Mathew\n",
      "Mathew\n",
      "Mathew\n",
      "Mathew\n",
      "Mathew\n",
      "Mathew\n",
      "Mathew\n",
      "Mathew\n",
      "Done\n"
     ]
    }
   ],
   "source": [
    "for i in range(10):\n",
    "    print('Mathew')\n",
    "print('Done')"
   ]
  },
  {
   "cell_type": "code",
   "execution_count": 68,
   "id": "3375b02b-c2b1-47c4-a891-b6a2e8fcbad8",
   "metadata": {},
   "outputs": [
    {
     "name": "stdout",
     "output_type": "stream",
     "text": [
      "Красный Красный Красный Красный Красный Красный Красный Красный Красный Красный Красный Красный Красный Красный Красный Красный Красный Красный Красный Красный Золотой Золотой Золотой Золотой Золотой Золотой Золотой Золотой Золотой Золотой Золотой Золотой Золотой Золотой Золотой Золотой Золотой Золотой Золотой Золотой "
     ]
    }
   ],
   "source": [
    "for i in range(20):\n",
    "        print('Красный', end = ' ')\n",
    "for j in range (20):\n",
    "        print('Золотой', end = ' ')"
   ]
  },
  {
   "cell_type": "code",
   "execution_count": 66,
   "id": "dedcf8b4-e28d-4852-9782-799b45db9acc",
   "metadata": {},
   "outputs": [
    {
     "name": "stdout",
     "output_type": "stream",
     "text": [
      "2 4 6 8 10 12 14 16 18 20 22 24 26 28 30 32 34 36 38 40 42 44 46 48 50 52 54 56 58 60 62 64 66 68 70 72 74 76 78 80 82 84 86 88 90 92 94 96 98 100 "
     ]
    }
   ],
   "source": [
    "for i in range(2,100+1,2):\n",
    "    print(i, end =' ')"
   ]
  },
  {
   "cell_type": "code",
   "execution_count": 1,
   "id": "25ad39fc-6b7f-42d0-867e-8c9779da05ca",
   "metadata": {},
   "outputs": [
    {
     "name": "stdout",
     "output_type": "stream",
     "text": [
      "10 9 8 7 6 5 4 3 2 1 0 \n",
      " Полетели\n"
     ]
    }
   ],
   "source": [
    "i =10\n",
    "while i>=0:\n",
    "    print(i, end = ' ')\n",
    "    i -=1\n",
    "print('\\n','Полетели')"
   ]
  },
  {
   "cell_type": "code",
   "execution_count": 8,
   "id": "ba0ef7dc-7ef5-4be5-bfa3-e4bd30017c85",
   "metadata": {},
   "outputs": [
    {
     "name": "stdout",
     "output_type": "stream",
     "text": [
      "Эта программа берёт три числа и возвращает их сумму.\n"
     ]
    },
    {
     "name": "stdin",
     "output_type": "stream",
     "text": [
      "Введите число:  3\n",
      "Введите число:  5\n",
      "Введите число:  6\n"
     ]
    },
    {
     "name": "stdout",
     "output_type": "stream",
     "text": [
      "Сумма: 14\n"
     ]
    }
   ],
   "source": [
    "print (\"Эта программа берёт три числа и возвращает их сумму.\")\n",
    "s=0\n",
    "for i in range(3):\n",
    "    x=int(input(\"Введите число: \"))\n",
    "    s +=x\n",
    "print (\"Сумма:\",s)"
   ]
  },
  {
   "cell_type": "code",
   "execution_count": 12,
   "id": "4d47e5ba-68a3-4d34-9286-026aabc1cb07",
   "metadata": {},
   "outputs": [
    {
     "name": "stdin",
     "output_type": "stream",
     "text": [
      "Введите любое число 1\n",
      "Введите любое число 3\n",
      "Введите любое число 5\n",
      "Введите любое число -1\n",
      "Введите любое число -3\n",
      "Введите любое число -5\n",
      "Введите любое число 0\n"
     ]
    },
    {
     "name": "stdout",
     "output_type": "stream",
     "text": [
      "Сумма числе = 0 \n",
      " Количество положительных чисел= 3 \n",
      " Количество отрицательных чисел = 3 \n",
      " Количество нулей =  1\n"
     ]
    }
   ],
   "source": [
    "s = 0\n",
    "a = 0\n",
    "b = 0\n",
    "c = 0\n",
    "for i in range(7):\n",
    "    x = int(input('Введите любое число'))\n",
    "    s +=x\n",
    "    if x<0:\n",
    "        a +=1\n",
    "    elif x==0:\n",
    "        c +=1\n",
    "    elif x>0:\n",
    "        b +=1\n",
    "print('Сумма числе =', s, '\\n', 'Количество положительных чисел=', b, '\\n', 'Количество отрицательных чисел =', a, '\\n', 'Количество нулей = ', c)\n",
    "        "
   ]
  },
  {
   "cell_type": "code",
   "execution_count": 16,
   "id": "bf10eb29-a958-4e12-a3c4-faae8e80d682",
   "metadata": {},
   "outputs": [
    {
     "name": "stdout",
     "output_type": "stream",
     "text": [
      "10\n"
     ]
    }
   ],
   "source": [
    "import random\n",
    "a = random.randrange(1,10+1)\n",
    "print(a)"
   ]
  },
  {
   "cell_type": "code",
   "execution_count": 32,
   "id": "a4fe7852-6f95-4587-9b60-229f105f7b40",
   "metadata": {},
   "outputs": [
    {
     "name": "stdout",
     "output_type": "stream",
     "text": [
      "0.42547371381118304\n"
     ]
    }
   ],
   "source": [
    "a = random.random()*10\n",
    "print(a)"
   ]
  },
  {
   "cell_type": "code",
   "execution_count": 40,
   "id": "b51254b1-ff46-4222-bdc9-dbfc7b7ce4b5",
   "metadata": {},
   "outputs": [
    {
     "name": "stdout",
     "output_type": "stream",
     "text": [
      "Решка Решка Решка Решка Орел Орел Решка Решка Решка Решка Решка Решка Орел Решка Решка Орел Решка Решка Решка Решка Решка Орел Решка Орел Решка Орел Решка Орел Орел Орел Орел Орел Орел Орел Орел Орел Решка Орел Решка Орел Орел Решка Орел Решка Решка Орел Решка Орел Орел Решка \n",
      " Количество выпадений \"Орел\" = 23 \n",
      " Количетсов выпадейний \"Решка\" =  27\n"
     ]
    }
   ],
   "source": [
    "b = 0\n",
    "c = 0\n",
    "for i in range(50):\n",
    "    a = random.randrange(0,2)\n",
    "    if a ==1:\n",
    "        print('Орел', end = ' ')\n",
    "        b +=1\n",
    "    else:\n",
    "        print('Решка', end = ' ')\n",
    "        c +=1\n",
    "print('\\n','Количество выпадений \"Орел\" =', b, '\\n', 'Количетсов выпадейний \"Решка\" = ', c)"
   ]
  },
  {
   "cell_type": "code",
   "execution_count": 101,
   "id": "87317139-1008-40e1-a591-1b73fae7a669",
   "metadata": {},
   "outputs": [
    {
     "name": "stdout",
     "output_type": "stream",
     "text": [
      "игра в камень-ножницы-бумага\n"
     ]
    },
    {
     "name": "stdin",
     "output_type": "stream",
     "text": [
      "Введите 0 -  Камень, 1 - ножницы или 2 - Бумага 1\n"
     ]
    },
    {
     "name": "stdout",
     "output_type": "stream",
     "text": [
      "Ваш выбор - Ножницы\n",
      "Выбор компьютера - Ножницы\n",
      "Результат - Ничья!\n"
     ]
    }
   ],
   "source": [
    "print('игра в камень-ножницы-бумага')\n",
    "x = random.randrange(3)\n",
    "a = int(input('Введите 0 -  Камень, 1 - ножницы или 2 - Бумага'))\n",
    "if a==0:\n",
    "    print('Ваш выбор - Камень')\n",
    "elif a==1:\n",
    "    print('Ваш выбор - Ножницы')\n",
    "elif a==2:\n",
    "    print('Ваш выбор - Бумага')\n",
    "else:\n",
    "    print('Вы ввели неверное значение')\n",
    "if x==0:\n",
    "    print('Выбор компьютера - Камень')\n",
    "elif x==1:\n",
    "    print('Выбор компьютера - Ножницы')\n",
    "else:\n",
    "    print('Выбор компьютера - Бумага')\n",
    "if a==x:\n",
    "    print('Результат - Ничья!')\n",
    "if (a==0 and x==1) or (a==1 and x==2) or (a==2 and x ==0):\n",
    "    print('Результат - Вы победили')\n",
    "elif (x==0 and a==1) or (x==1 and a==2) or (x==2 and a==0):\n",
    "    print('Результат - Победил компьютер')"
   ]
  },
  {
   "cell_type": "code",
   "execution_count": null,
   "id": "fda2de9a-ccaa-4cee-952e-a7ef1ea57b33",
   "metadata": {},
   "outputs": [],
   "source": []
  }
 ],
 "metadata": {
  "kernelspec": {
   "display_name": "Python 3 (ipykernel)",
   "language": "python",
   "name": "python3"
  },
  "language_info": {
   "codemirror_mode": {
    "name": "ipython",
    "version": 3
   },
   "file_extension": ".py",
   "mimetype": "text/x-python",
   "name": "python",
   "nbconvert_exporter": "python",
   "pygments_lexer": "ipython3",
   "version": "3.9.13"
  }
 },
 "nbformat": 4,
 "nbformat_minor": 5
}
