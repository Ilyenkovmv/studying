{
 "cells": [
  {
   "cell_type": "code",
   "execution_count": 2,
   "id": "12099e80-fa54-4155-9d97-314b10eca4e3",
   "metadata": {},
   "outputs": [
    {
     "name": "stdout",
     "output_type": "stream",
     "text": [
      "Mathew\n"
     ]
    }
   ],
   "source": [
    "print('Mathew') # print your name"
   ]
  },
  {
   "cell_type": "code",
   "execution_count": 3,
   "id": "2f35c37c-5e61-4e40-84a5-335a0b68fb48",
   "metadata": {},
   "outputs": [
    {
     "data": {
      "text/plain": [
       "0.6666666666666666"
      ]
     },
     "execution_count": 3,
     "metadata": {},
     "output_type": "execute_result"
    }
   ],
   "source": [
    "2/3"
   ]
  },
  {
   "cell_type": "code",
   "execution_count": 4,
   "id": "5f461c89-18c1-4c62-8625-193a573725a8",
   "metadata": {},
   "outputs": [
    {
     "data": {
      "text/plain": [
       "0"
      ]
     },
     "execution_count": 4,
     "metadata": {},
     "output_type": "execute_result"
    }
   ],
   "source": [
    "2//3"
   ]
  },
  {
   "cell_type": "code",
   "execution_count": 6,
   "id": "0fb5cddd-ce83-478b-9d87-6491564d0a83",
   "metadata": {},
   "outputs": [
    {
     "name": "stdout",
     "output_type": "stream",
     "text": [
      "3.14\n"
     ]
    }
   ],
   "source": [
    "pi = 3.14\n",
    "print(pi)"
   ]
  },
  {
   "cell_type": "code",
   "execution_count": 13,
   "id": "1b190e39-e219-4846-a304-a3515fb04d98",
   "metadata": {},
   "outputs": [
    {
     "name": "stdin",
     "output_type": "stream",
     "text": [
      "radius1 2\n",
      "radius2 4\n"
     ]
    },
    {
     "name": "stdout",
     "output_type": "stream",
     "text": [
      "25.12\n"
     ]
    }
   ],
   "source": [
    "\n",
    "a= float(input('radius1'))\n",
    "b = float(input('radius2'))\n",
    "pi = 3.14\n",
    "s = pi*a*b\n",
    "print(s)"
   ]
  },
  {
   "cell_type": "code",
   "execution_count": 16,
   "id": "060b2419-9c7b-4451-9ca1-415b54306a36",
   "metadata": {},
   "outputs": [
    {
     "name": "stdin",
     "output_type": "stream",
     "text": [
      " 2\n",
      " 4\n",
      " 6\n"
     ]
    },
    {
     "name": "stdout",
     "output_type": "stream",
     "text": [
      "11.085866666666666\n"
     ]
    }
   ],
   "source": [
    "n = int(input())\n",
    "t = int(input())\n",
    "v = int(input())\n",
    "r = 8.3144\n",
    "p = (n*r*t)/v\n",
    "print(p)"
   ]
  },
  {
   "cell_type": "code",
   "execution_count": null,
   "id": "369f64bc-eabd-45ee-9a0a-ba173708aa3e",
   "metadata": {},
   "outputs": [],
   "source": [
    "LAB1"
   ]
  },
  {
   "cell_type": "code",
   "execution_count": null,
   "id": "52f1aebd-9386-44c3-8ed4-a3c6816a7ab1",
   "metadata": {},
   "outputs": [],
   "source": [
    "Part1"
   ]
  },
  {
   "cell_type": "code",
   "execution_count": 18,
   "id": "f413b629-6899-4dbe-8c08-3056448a5db2",
   "metadata": {},
   "outputs": [
    {
     "name": "stdin",
     "output_type": "stream",
     "text": [
      "Введите температуру в фарегнейтах 72\n"
     ]
    },
    {
     "name": "stdout",
     "output_type": "stream",
     "text": [
      "Температура в Цельсий = 22.22222222222222\n"
     ]
    }
   ],
   "source": [
    "t1 = float(input('Введите температуру в фарегнейтах'))\n",
    "t2 = (t1-32)*5/9\n",
    "print('Температура в Цельсий =',t2)"
   ]
  },
  {
   "cell_type": "code",
   "execution_count": null,
   "id": "3a8a8c20-51e3-41cb-8d5d-31a77880ba27",
   "metadata": {},
   "outputs": [],
   "source": [
    "Part2"
   ]
  },
  {
   "cell_type": "code",
   "execution_count": 22,
   "id": "0d317387-5c13-4a7c-8009-fe16c06b4e03",
   "metadata": {},
   "outputs": [
    {
     "name": "stdin",
     "output_type": "stream",
     "text": [
      "Введите длину нижнего основания 7\n",
      "Введите длину верхнего основания 10\n",
      "Введите высоту трапеции 5\n"
     ]
    },
    {
     "name": "stdout",
     "output_type": "stream",
     "text": [
      "42.5\n"
     ]
    }
   ],
   "source": [
    "x1 = float(input('Введите длину нижнего основания'))\n",
    "x2 = float(input('Введите длину верхнего основания'))\n",
    "h = float(input('Введите высоту трапеции'))\n",
    "a = 1/2*(x1+x2)*h\n",
    "print(a)"
   ]
  },
  {
   "cell_type": "code",
   "execution_count": null,
   "id": "f85a66df-0feb-442e-ad7d-c21eda55fbcf",
   "metadata": {},
   "outputs": [],
   "source": [
    "Part3"
   ]
  },
  {
   "cell_type": "code",
   "execution_count": 24,
   "id": "6cc59782-c01c-4002-9b54-978b3d6ce5f4",
   "metadata": {},
   "outputs": [
    {
     "name": "stdin",
     "output_type": "stream",
     "text": [
      "Введите радиус сферы 3\n"
     ]
    },
    {
     "name": "stdout",
     "output_type": "stream",
     "text": [
      "113.03999999999999\n"
     ]
    }
   ],
   "source": [
    "r = float(input('Введите радиус сферы'))\n",
    "pi = 3.14\n",
    "v = 4/3*(pi*r**3)\n",
    "if r*r*r==r**3:   \n",
    "    print(v)"
   ]
  },
  {
   "cell_type": "code",
   "execution_count": null,
   "id": "0fa7c59c-aa4f-49aa-b1f0-31bdc974f287",
   "metadata": {},
   "outputs": [],
   "source": []
  },
  {
   "cell_type": "code",
   "execution_count": null,
   "id": "93d4f087-9fcd-4298-a8bc-c739c612565c",
   "metadata": {},
   "outputs": [],
   "source": []
  },
  {
   "cell_type": "code",
   "execution_count": null,
   "id": "6e8fdc8f-be30-4cbd-aa41-3d86d431a0d0",
   "metadata": {},
   "outputs": [],
   "source": []
  },
  {
   "cell_type": "code",
   "execution_count": null,
   "id": "8b610cde-1852-47bc-934f-9d3f1cabcba3",
   "metadata": {},
   "outputs": [],
   "source": []
  },
  {
   "cell_type": "code",
   "execution_count": null,
   "id": "421867ac-1c80-451e-9315-a54cecbae1b9",
   "metadata": {},
   "outputs": [],
   "source": []
  },
  {
   "cell_type": "code",
   "execution_count": null,
   "id": "2b2be988-1de3-4ba3-9da5-cdb804898eb5",
   "metadata": {},
   "outputs": [],
   "source": []
  },
  {
   "cell_type": "code",
   "execution_count": null,
   "id": "e59b306a-bd45-40b6-83d9-b6f8ae484b6f",
   "metadata": {},
   "outputs": [],
   "source": []
  },
  {
   "cell_type": "code",
   "execution_count": null,
   "id": "dfe0be26-6485-45b5-8787-d8b4fc4ce4db",
   "metadata": {},
   "outputs": [],
   "source": []
  },
  {
   "cell_type": "code",
   "execution_count": null,
   "id": "53028b87-5a84-4d53-967d-f33fb305d00a",
   "metadata": {},
   "outputs": [],
   "source": []
  },
  {
   "cell_type": "code",
   "execution_count": null,
   "id": "596ca47c-4bbb-4201-a935-e45d72862674",
   "metadata": {},
   "outputs": [],
   "source": []
  }
 ],
 "metadata": {
  "kernelspec": {
   "display_name": "Python 3 (ipykernel)",
   "language": "python",
   "name": "python3"
  },
  "language_info": {
   "codemirror_mode": {
    "name": "ipython",
    "version": 3
   },
   "file_extension": ".py",
   "mimetype": "text/x-python",
   "name": "python",
   "nbconvert_exporter": "python",
   "pygments_lexer": "ipython3",
   "version": "3.9.13"
  }
 },
 "nbformat": 4,
 "nbformat_minor": 5
}
