{
 "cells": [
  {
   "cell_type": "code",
   "execution_count": 19,
   "id": "1cfddfe0-29af-40e3-bcb1-6ed6c7ccf423",
   "metadata": {},
   "outputs": [
    {
     "name": "stdin",
     "output_type": "stream",
     "text": [
      " 123123\n"
     ]
    },
    {
     "name": "stdout",
     "output_type": "stream",
     "text": [
      "1 2 3 1 2 3\n",
      "Счастливый\n"
     ]
    }
   ],
   "source": [
    "n = int (input())\n",
    "f,e,d,c,b,a, = n%10, n%100//10, n%1000//100, n%10000//1000, n%100000//10000, n%1000000//100000\n",
    "if (a + b + c) == (d + e + f) :\n",
    "    print ('Счастливый')\n",
    "else :\n",
    "    print ('Обычный')"
   ]
  },
  {
   "cell_type": "code",
   "execution_count": 21,
   "id": "d262ec66-6359-4295-88f9-1057ffc7f3ed",
   "metadata": {},
   "outputs": [
    {
     "name": "stdin",
     "output_type": "stream",
     "text": [
      " 123123\n"
     ]
    },
    {
     "name": "stdout",
     "output_type": "stream",
     "text": [
      "Счастливый\n"
     ]
    }
   ],
   "source": [
    "a, b, c, d, e, f = input()\n",
    "n= int(a)+int (b)+int(c)\n",
    "m= int(d)+int (e)+int(f)\n",
    "if n==m:\n",
    "    print ('Счастливый')\n",
    "else:\n",
    "    print ('Обычный')"
   ]
  },
  {
   "cell_type": "code",
   "execution_count": null,
   "id": "0a0578fa-499f-4af3-b9b5-e28b8091a113",
   "metadata": {},
   "outputs": [],
   "source": []
  },
  {
   "cell_type": "code",
   "execution_count": null,
   "id": "98a6095d-ed80-49e7-b83a-b63fb72b63a9",
   "metadata": {},
   "outputs": [],
   "source": []
  },
  {
   "cell_type": "code",
   "execution_count": null,
   "id": "437b9b43-054e-49b4-875d-12a075334f25",
   "metadata": {},
   "outputs": [],
   "source": []
  },
  {
   "cell_type": "code",
   "execution_count": null,
   "id": "30efe5a5-8fbf-43bc-aa9d-0c9d3fd4c106",
   "metadata": {},
   "outputs": [],
   "source": []
  },
  {
   "cell_type": "code",
   "execution_count": null,
   "id": "04dd3e3b-cede-4186-9106-673d6cbec7d8",
   "metadata": {},
   "outputs": [],
   "source": []
  },
  {
   "cell_type": "code",
   "execution_count": null,
   "id": "b9b5e3ee-e3ea-47e6-9a29-205b9be7e4e7",
   "metadata": {},
   "outputs": [],
   "source": []
  },
  {
   "cell_type": "code",
   "execution_count": null,
   "id": "19833dc5-ab36-4116-aa16-cc1dc79ce587",
   "metadata": {},
   "outputs": [],
   "source": []
  },
  {
   "cell_type": "code",
   "execution_count": null,
   "id": "be632bec-b6a0-4102-90b6-e538911a7a3d",
   "metadata": {},
   "outputs": [],
   "source": []
  },
  {
   "cell_type": "code",
   "execution_count": null,
   "id": "b96f2120-cca5-446b-a3f8-ec3c226cc7a4",
   "metadata": {},
   "outputs": [],
   "source": []
  },
  {
   "cell_type": "code",
   "execution_count": null,
   "id": "f1b47cad-1bcb-4322-a915-dcb3378fdee7",
   "metadata": {},
   "outputs": [],
   "source": []
  },
  {
   "cell_type": "code",
   "execution_count": null,
   "id": "13630962-233f-42c9-b132-8b9448a5b68a",
   "metadata": {},
   "outputs": [],
   "source": []
  },
  {
   "cell_type": "code",
   "execution_count": null,
   "id": "3ee056ed-04d0-4c09-9279-5723d391970a",
   "metadata": {},
   "outputs": [],
   "source": []
  },
  {
   "cell_type": "code",
   "execution_count": null,
   "id": "a28a2d6c-c5db-40a2-92c5-b4da6f1e748c",
   "metadata": {},
   "outputs": [],
   "source": []
  },
  {
   "cell_type": "code",
   "execution_count": null,
   "id": "6b579772-37b5-4f0b-a81b-359eb7c07d3d",
   "metadata": {},
   "outputs": [],
   "source": []
  },
  {
   "cell_type": "code",
   "execution_count": null,
   "id": "73414388-0757-4102-b33e-87986421deb9",
   "metadata": {},
   "outputs": [],
   "source": []
  },
  {
   "cell_type": "code",
   "execution_count": null,
   "id": "8c0ff095-d1c3-446e-94fb-c784b3d4f66e",
   "metadata": {},
   "outputs": [],
   "source": []
  },
  {
   "cell_type": "code",
   "execution_count": null,
   "id": "794ff8ee-9751-47f3-9d9a-24654a11f1cc",
   "metadata": {},
   "outputs": [],
   "source": []
  },
  {
   "cell_type": "code",
   "execution_count": null,
   "id": "8833f895-a778-4660-b5cc-2c6c34cf2f50",
   "metadata": {},
   "outputs": [],
   "source": []
  },
  {
   "cell_type": "code",
   "execution_count": null,
   "id": "9dad02c1-8af1-4158-85e4-e08341ca82ec",
   "metadata": {},
   "outputs": [],
   "source": []
  },
  {
   "cell_type": "code",
   "execution_count": null,
   "id": "61a450a3-a355-45c4-8330-8bbd0af03c59",
   "metadata": {},
   "outputs": [],
   "source": []
  }
 ],
 "metadata": {
  "kernelspec": {
   "display_name": "Python 3 (ipykernel)",
   "language": "python",
   "name": "python3"
  },
  "language_info": {
   "codemirror_mode": {
    "name": "ipython",
    "version": 3
   },
   "file_extension": ".py",
   "mimetype": "text/x-python",
   "name": "python",
   "nbconvert_exporter": "python",
   "pygments_lexer": "ipython3",
   "version": "3.9.13"
  }
 },
 "nbformat": 4,
 "nbformat_minor": 5
}
