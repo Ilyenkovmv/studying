{
 "cells": [
  {
   "cell_type": "code",
   "execution_count": 27,
   "id": "0045f411-c5a3-44b2-b5e9-ecca3008ed46",
   "metadata": {},
   "outputs": [
    {
     "name": "stdin",
     "output_type": "stream",
     "text": [
      " 23\n",
      " 23\n",
      " 21\n"
     ]
    },
    {
     "name": "stdout",
     "output_type": "stream",
     "text": [
      "23\n",
      "21\n",
      "23\n"
     ]
    }
   ],
   "source": [
    "a,b,c = int(input()), int(input()), int(input())\n",
    "if a>=b and a>=c :\n",
    "    max = a \n",
    "elif b>=a and b>=c :\n",
    "    max = b\n",
    "elif c>=a and c>=b :\n",
    "    max = c\n",
    "print (max)\n",
    "if a<=b and a<=c :\n",
    "    min = a\n",
    "elif b<=a and b<=c :\n",
    "    min = b\n",
    "elif c<=a and c<=b :\n",
    "    min = c\n",
    "print (min)\n",
    "print ((a + b + c) - max - min)"
   ]
  },
  {
   "cell_type": "code",
   "execution_count": null,
   "id": "b93b7565-ab6e-4e5d-bc40-a361331ae639",
   "metadata": {},
   "outputs": [],
   "source": []
  },
  {
   "cell_type": "code",
   "execution_count": null,
   "id": "311565b4-d56f-47c7-af15-3fc5ea3d8342",
   "metadata": {},
   "outputs": [],
   "source": []
  },
  {
   "cell_type": "code",
   "execution_count": null,
   "id": "c207447c-ef2b-47ee-ad04-f63eb2d0502f",
   "metadata": {},
   "outputs": [],
   "source": []
  },
  {
   "cell_type": "code",
   "execution_count": null,
   "id": "12d770b1-4558-4b20-974d-5ae3f7856ba6",
   "metadata": {},
   "outputs": [],
   "source": []
  },
  {
   "cell_type": "code",
   "execution_count": null,
   "id": "7589ca07-a7ac-4062-bf5d-d679617e2161",
   "metadata": {},
   "outputs": [],
   "source": []
  },
  {
   "cell_type": "code",
   "execution_count": null,
   "id": "3157ea85-02a0-4279-b8d0-8c0e4af69654",
   "metadata": {},
   "outputs": [],
   "source": []
  },
  {
   "cell_type": "code",
   "execution_count": null,
   "id": "ac050c6f-212f-4ad9-a41b-be5ebc89c090",
   "metadata": {},
   "outputs": [],
   "source": []
  },
  {
   "cell_type": "code",
   "execution_count": null,
   "id": "b5a27124-a9cf-4832-b706-8cd163b8981f",
   "metadata": {},
   "outputs": [],
   "source": []
  },
  {
   "cell_type": "code",
   "execution_count": null,
   "id": "f6082b60-81d6-4dae-b21f-048891632fd8",
   "metadata": {},
   "outputs": [],
   "source": []
  },
  {
   "cell_type": "code",
   "execution_count": null,
   "id": "0742f6cd-7bee-4fdb-9b31-866acec9edef",
   "metadata": {},
   "outputs": [],
   "source": []
  },
  {
   "cell_type": "code",
   "execution_count": null,
   "id": "676d4a87-87a2-4ac1-9a26-3be27a9518de",
   "metadata": {},
   "outputs": [],
   "source": []
  },
  {
   "cell_type": "code",
   "execution_count": null,
   "id": "c6c949a6-9145-4b9e-971e-4956da6c4fe0",
   "metadata": {},
   "outputs": [],
   "source": []
  },
  {
   "cell_type": "code",
   "execution_count": null,
   "id": "792b9dee-2d9b-40b9-859a-448b071c4607",
   "metadata": {},
   "outputs": [],
   "source": []
  },
  {
   "cell_type": "code",
   "execution_count": null,
   "id": "9295d0ab-8ddf-4aec-8934-f90bf028dc5e",
   "metadata": {},
   "outputs": [],
   "source": []
  },
  {
   "cell_type": "code",
   "execution_count": null,
   "id": "9f2f2c42-2b6e-4ccc-a86b-efd1066ed509",
   "metadata": {},
   "outputs": [],
   "source": []
  },
  {
   "cell_type": "code",
   "execution_count": null,
   "id": "fbf227b8-0785-41de-b7ee-6fa902b45c4f",
   "metadata": {},
   "outputs": [],
   "source": []
  },
  {
   "cell_type": "code",
   "execution_count": null,
   "id": "2a36d9c1-1713-427a-a075-5efc0e380aef",
   "metadata": {},
   "outputs": [],
   "source": []
  },
  {
   "cell_type": "code",
   "execution_count": null,
   "id": "48131ed5-2b38-463e-a449-9abb220c8633",
   "metadata": {},
   "outputs": [],
   "source": []
  },
  {
   "cell_type": "code",
   "execution_count": null,
   "id": "c3362a5f-b28e-49f3-a9dd-734189b65a0e",
   "metadata": {},
   "outputs": [],
   "source": []
  },
  {
   "cell_type": "code",
   "execution_count": null,
   "id": "c3b9a7db-b1c1-4342-a263-4c1dc6c4bb9d",
   "metadata": {},
   "outputs": [],
   "source": []
  },
  {
   "cell_type": "code",
   "execution_count": null,
   "id": "43e72db3-b51a-458a-9df4-ecc683dbcd54",
   "metadata": {},
   "outputs": [],
   "source": []
  },
  {
   "cell_type": "code",
   "execution_count": null,
   "id": "e57196a5-cff3-4893-a188-46015c2f73fd",
   "metadata": {},
   "outputs": [],
   "source": []
  },
  {
   "cell_type": "code",
   "execution_count": null,
   "id": "b0381619-4cfb-491a-b3e2-79d438196548",
   "metadata": {},
   "outputs": [],
   "source": []
  },
  {
   "cell_type": "code",
   "execution_count": null,
   "id": "30b119e0-28f4-4c3c-a457-c31ba05e6de6",
   "metadata": {},
   "outputs": [],
   "source": []
  },
  {
   "cell_type": "code",
   "execution_count": null,
   "id": "db7ed5fc-98df-4a46-917b-962d61bfacfb",
   "metadata": {},
   "outputs": [],
   "source": []
  },
  {
   "cell_type": "code",
   "execution_count": null,
   "id": "5243329f-5722-4b14-9b3e-cc6f71867f8a",
   "metadata": {},
   "outputs": [],
   "source": []
  }
 ],
 "metadata": {
  "kernelspec": {
   "display_name": "Python 3 (ipykernel)",
   "language": "python",
   "name": "python3"
  },
  "language_info": {
   "codemirror_mode": {
    "name": "ipython",
    "version": 3
   },
   "file_extension": ".py",
   "mimetype": "text/x-python",
   "name": "python",
   "nbconvert_exporter": "python",
   "pygments_lexer": "ipython3",
   "version": "3.9.13"
  }
 },
 "nbformat": 4,
 "nbformat_minor": 5
}
