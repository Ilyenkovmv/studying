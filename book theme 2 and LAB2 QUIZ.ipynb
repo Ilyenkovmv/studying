{
 "cells": [
  {
   "cell_type": "code",
   "execution_count": 13,
   "id": "854af13e-497b-4f3c-bb31-fbdda3c2ce25",
   "metadata": {},
   "outputs": [
    {
     "name": "stdin",
     "output_type": "stream",
     "text": [
      "Температура 91\n"
     ]
    },
    {
     "name": "stdout",
     "output_type": "stream",
     "text": [
      "Снаружи жарко.\n"
     ]
    }
   ],
   "source": [
    "temperature = int (input(\"Температура\")) # не хватало закрывающей ')'\n",
    "if temperature > 90:\n",
    "    print(\"Снаружи жарко.\")"
   ]
  },
  {
   "cell_type": "code",
   "execution_count": 19,
   "id": "26613fa0-1211-4670-b70f-28d10f9c5c73",
   "metadata": {},
   "outputs": [
    {
     "name": "stdin",
     "output_type": "stream",
     "text": [
      " 2\n"
     ]
    },
    {
     "name": "stdout",
     "output_type": "stream",
     "text": [
      "x - положительное число.\n"
     ]
    }
   ],
   "source": [
    "x = float(input()) # была ошибка в присовении переменной (было ==), и исправил на ввод пользовательских данных\n",
    "if x >= 0:\n",
    "    print(\"x - положительное число.\")\n",
    "else:\n",
    "    print(\"x - не положительное число.\")"
   ]
  },
  {
   "cell_type": "code",
   "execution_count": 28,
   "id": "a05b710b-0de1-4ad1-8f50-edae7b5c3638",
   "metadata": {},
   "outputs": [
    {
     "name": "stdin",
     "output_type": "stream",
     "text": [
      "Как зовут помощника Доктора Bunsen Honeydew? Beaker\n"
     ]
    },
    {
     "name": "stdout",
     "output_type": "stream",
     "text": [
      "Верно!\n"
     ]
    }
   ],
   "source": [
    "a = str(input(\"Как зовут помощника Доктора Bunsen Honeydew?\")) # далее используется переменаня а, привел все к а\n",
    "if a == \"Beaker\": # исправил = на ==, так было присовение а не проверка условия\n",
    "    print(\"Верно!\")\n",
    "else: # был неверный отступ и не было :, завершающего цикл else\n",
    "    print(\"Неверно! Его имя Beaker.\")"
   ]
  },
  {
   "cell_type": "code",
   "execution_count": 32,
   "id": "8998206a-2d88-447b-9a0d-0d567f1336bb",
   "metadata": {},
   "outputs": [
    {
     "name": "stdout",
     "output_type": "stream",
     "text": [
      "A. Верхушка десерта\n",
      "B. Верхушка пустыни\n"
     ]
    },
    {
     "name": "stdin",
     "output_type": "stream",
     "text": [
      "Вишня - это: 2\n"
     ]
    },
    {
     "name": "stdout",
     "output_type": "stream",
     "text": [
      "Не верно\n"
     ]
    }
   ],
   "source": [
    "print(\"A. Верхушка десерта\")\n",
    "print(\"B. Верхушка пустыни\")\n",
    "userInput = input(\"Вишня - это:\")\n",
    "if userInput==\"A\":\n",
    "    print(\"Верно!\")\n",
    "else: \n",
    "    print('Не верно')"
   ]
  },
  {
   "cell_type": "code",
   "execution_count": 36,
   "id": "5f11b1f9-01bb-4259-953f-93fe8250e57a",
   "metadata": {},
   "outputs": [
    {
     "name": "stdin",
     "output_type": "stream",
     "text": [
      "Введите число: 3\n"
     ]
    },
    {
     "name": "stdout",
     "output_type": "stream",
     "text": [
      "Вы ввели 3\n"
     ]
    }
   ],
   "source": [
    "x=int(input(\"Введите число:\")) # добавил инт для целого числа\n",
    "if x==3: # добавил оператор равенства == вместо присовения = и двоеточие в конце :\n",
    "    print(\"Вы ввели 3\")\n",
    "else: \n",
    "    print ('вы ввели не 3')"
   ]
  },
  {
   "cell_type": "code",
   "execution_count": 39,
   "id": "7880c1db-cfbf-4eaa-ad05-633c37e5274a",
   "metadata": {},
   "outputs": [
    {
     "name": "stdin",
     "output_type": "stream",
     "text": [
      "How are you today? 2\n"
     ]
    },
    {
     "name": "stdout",
     "output_type": "stream",
     "text": [
      "not to good\n"
     ]
    }
   ],
   "source": [
    "x=input(\"How are you today?\")\n",
    "if x==\"Happy\" or x == \"Glad\":# добавил сравнение х== 'Glad', ранее не было повторной переменной для сравнения\n",
    "    print(\"That is good to hear!\")\n",
    "else: \n",
    "    print('not to good')"
   ]
  },
  {
   "cell_type": "code",
   "execution_count": 43,
   "id": "81bf465e-3245-4b8d-b251-f93e5bc585ef",
   "metadata": {},
   "outputs": [
    {
     "name": "stdout",
     "output_type": "stream",
     "text": [
      "x= 5\n",
      "y= False\n",
      "z= True\n",
      "Buzz\n"
     ]
    }
   ],
   "source": [
    "x = 5\n",
    "y = x == 6\n",
    "z = x == 5\n",
    "print(\"x=\",x)\n",
    "print(\"y=\",y)\n",
    "print(\"z=\",z)\n",
    "if y ==True :\n",
    "    print(\"Fizz\")\n",
    "if z==True:\n",
    "    print(\"Buzz\")"
   ]
  },
  {
   "cell_type": "code",
   "execution_count": 64,
   "id": "2a0cbd34-bab8-4341-91d0-581b4796cb60",
   "metadata": {},
   "outputs": [
    {
     "name": "stdin",
     "output_type": "stream",
     "text": [
      "Истинно или ложно, 3+4 равняется 7? ы\n"
     ]
    },
    {
     "name": "stdout",
     "output_type": "stream",
     "text": [
      "Неверно\n"
     ]
    }
   ],
   "source": [
    "a = input(\"Истинно или ложно, 3+4 равняется 7?\")\n",
    "if a=='Верно':\n",
    "    print(\"Верно\")\n",
    "else:\n",
    "    print(\"Неверно\")"
   ]
  },
  {
   "cell_type": "code",
   "execution_count": 67,
   "id": "35a578fd-53e7-41e1-bfbd-833171be6310",
   "metadata": {},
   "outputs": [
    {
     "name": "stdin",
     "output_type": "stream",
     "text": [
      "Введите любое число 0\n"
     ]
    },
    {
     "name": "stdout",
     "output_type": "stream",
     "text": [
      "Равно нулю\n"
     ]
    }
   ],
   "source": [
    "a = int(input('Введите любое число'))\n",
    "if a>0:\n",
    "    print ('Положительное')\n",
    "elif a==0:\n",
    "    print('Равно нулю')\n",
    "else:\n",
    "    print('Отрицательное')"
   ]
  },
  {
   "cell_type": "code",
   "execution_count": 71,
   "id": "91b7d467-9135-4fbe-a733-ae74675c6de1",
   "metadata": {},
   "outputs": [
    {
     "name": "stdin",
     "output_type": "stream",
     "text": [
      "Введите любое число 0\n"
     ]
    },
    {
     "name": "stdout",
     "output_type": "stream",
     "text": [
      "Успех\n"
     ]
    }
   ],
   "source": [
    "a = int(input('Введите любое число'))\n",
    "if -10<a<10:\n",
    "    print('Успех')\n",
    "else:\n",
    "    print('попробуй еще раз')"
   ]
  },
  {
   "cell_type": "code",
   "execution_count": null,
   "id": "969be09f-e2c2-4445-b40f-bd0e3356d675",
   "metadata": {},
   "outputs": [],
   "source": [
    "LAB 2"
   ]
  },
  {
   "cell_type": "code",
   "execution_count": null,
   "id": "6ee60c75-4f6d-45ee-9f3b-eff58b073a93",
   "metadata": {},
   "outputs": [
    {
     "name": "stdout",
     "output_type": "stream",
     "text": [
      "Время викторины!\n"
     ]
    },
    {
     "name": "stdin",
     "output_type": "stream",
     "text": [
      "Ты готов? 2\n"
     ]
    },
    {
     "name": "stdout",
     "output_type": "stream",
     "text": [
      "Все равно начинаем\n"
     ]
    }
   ],
   "source": [
    "print('Время викторины!')\n",
    "b = 0\n",
    "c = 0\n",
    "a = input('Ты готов?')\n",
    "if a.lower()=='готов' or a.lower()=='да':\n",
    "    print('Супер!', '\\n','Первый вопрос!')\n",
    "else :\n",
    "    print('Все равно начинаем')\n",
    "a = int(input('Сколько книг в серии Гарри Поттера, числом'))\n",
    "if a==7 :\n",
    "    print('Верно')\n",
    "    b +=1\n",
    "else:\n",
    "    print('Неверно')\n",
    "    c +=1\n",
    "print('Второй вопрос!')\n",
    "a = int(input('Напиши правильный ответ выражения: 3*(2-1)'))\n",
    "if a==3:\n",
    "    print('Верно!')\n",
    "    b +=1\n",
    "else:\n",
    "    print('Неверно')\n",
    "    c +=1\n",
    "print('Третий вопрос!')\n",
    "a = int(input('Напиши правильный ответ выражения: 3*2-1'))\n",
    "if a==5:\n",
    "    print('Верно!')\n",
    "    b +=1\n",
    "else:\n",
    "    print('Неверно')\n",
    "    c +=1\n",
    "print('Четвертый вопрос!')\n",
    "print('A. Кипелов', '\\n', 'Б. Ария', '\\n', 'В. КиШ', '\\n', 'Г. Наутилус')\n",
    "a = input('Кто исполнил трек \"Вавилон\"?')\n",
    "if a.lower()=='а':\n",
    "    print('Верно!')\n",
    "    b +=1\n",
    "else:\n",
    "    print('Неверно')\n",
    "    c +=1\n",
    "print('Последний вопрос!')\n",
    "print('Москва', '\\n', 'Санкт-Петербург', '\\n', 'Архангельск', '\\n', 'Владивосток')\n",
    "a = input('Какой город изображен на 500 рублевой купюре?')\n",
    "if a.lower()=='архангельск':\n",
    "    print('Верно')\n",
    "    b +=1\n",
    "else:\n",
    "    print('Неверно')\n",
    "    c +=1\n",
    "print('Количество верных ответов =', b,',', (b/(b+c))*100, '= процент правильных ответов'  '\\n', 'Количество неверных ответов =', c)"
   ]
  },
  {
   "cell_type": "code",
   "execution_count": null,
   "id": "a2172387-8e96-4e61-bc7b-fe733774e96d",
   "metadata": {},
   "outputs": [],
   "source": []
  },
  {
   "cell_type": "code",
   "execution_count": null,
   "id": "cfb867c0-8346-4e75-a88c-55889011df09",
   "metadata": {},
   "outputs": [],
   "source": []
  },
  {
   "cell_type": "code",
   "execution_count": null,
   "id": "350beb52-61ea-4552-97a9-be9844ce8557",
   "metadata": {},
   "outputs": [],
   "source": []
  },
  {
   "cell_type": "code",
   "execution_count": null,
   "id": "b103e026-f5b7-462a-b45b-4c38eece133c",
   "metadata": {},
   "outputs": [],
   "source": []
  },
  {
   "cell_type": "code",
   "execution_count": null,
   "id": "046344eb-54ca-4408-a604-2916161209be",
   "metadata": {},
   "outputs": [],
   "source": []
  },
  {
   "cell_type": "code",
   "execution_count": null,
   "id": "2d7fa065-edbc-4e8b-a588-567ae3e1eaae",
   "metadata": {},
   "outputs": [],
   "source": []
  },
  {
   "cell_type": "code",
   "execution_count": null,
   "id": "440dfbda-2067-422a-8355-84ab8d421158",
   "metadata": {},
   "outputs": [],
   "source": []
  },
  {
   "cell_type": "code",
   "execution_count": null,
   "id": "cd43e690-6532-4f49-a506-01e4e10ec09f",
   "metadata": {},
   "outputs": [],
   "source": []
  },
  {
   "cell_type": "code",
   "execution_count": null,
   "id": "fef317e3-cde1-42ad-9283-1bf8bbfb96e3",
   "metadata": {},
   "outputs": [],
   "source": []
  },
  {
   "cell_type": "code",
   "execution_count": null,
   "id": "95a0a445-03ef-459a-8b79-e5cedc59f467",
   "metadata": {},
   "outputs": [],
   "source": []
  },
  {
   "cell_type": "code",
   "execution_count": null,
   "id": "6a96e033-8116-44aa-8ee8-9f3afe82a131",
   "metadata": {},
   "outputs": [],
   "source": []
  },
  {
   "cell_type": "code",
   "execution_count": null,
   "id": "99783442-f680-4848-b965-c08dbc18dc09",
   "metadata": {},
   "outputs": [],
   "source": []
  },
  {
   "cell_type": "code",
   "execution_count": null,
   "id": "f5897685-0dd6-43e1-beca-0a1cd357a1ab",
   "metadata": {},
   "outputs": [],
   "source": []
  },
  {
   "cell_type": "code",
   "execution_count": null,
   "id": "2556c1d8-b956-4baf-9ebe-3a7628f0d7a5",
   "metadata": {},
   "outputs": [],
   "source": []
  },
  {
   "cell_type": "code",
   "execution_count": null,
   "id": "d4725ccc-0451-47ce-8f7a-9d7e3834b97f",
   "metadata": {},
   "outputs": [],
   "source": []
  },
  {
   "cell_type": "code",
   "execution_count": null,
   "id": "0ee49b47-0392-4707-a12d-feafbde97e1e",
   "metadata": {},
   "outputs": [],
   "source": []
  },
  {
   "cell_type": "code",
   "execution_count": null,
   "id": "18e9b90e-4a17-4c9e-82ba-3e5aff1c6dd3",
   "metadata": {},
   "outputs": [],
   "source": []
  },
  {
   "cell_type": "code",
   "execution_count": null,
   "id": "2f3a6a2e-63c0-4367-b9dc-352fd5b7558f",
   "metadata": {},
   "outputs": [],
   "source": []
  },
  {
   "cell_type": "code",
   "execution_count": null,
   "id": "a8069e58-4402-4b97-a26e-ffa04f08517b",
   "metadata": {},
   "outputs": [],
   "source": []
  },
  {
   "cell_type": "code",
   "execution_count": null,
   "id": "dd1c5eff-5e57-4337-a565-48fbb0835522",
   "metadata": {},
   "outputs": [],
   "source": []
  },
  {
   "cell_type": "code",
   "execution_count": null,
   "id": "d1ef2e43-bf36-4ef5-b9e0-ec2a7585027b",
   "metadata": {},
   "outputs": [],
   "source": []
  },
  {
   "cell_type": "code",
   "execution_count": null,
   "id": "043ed3f4-9d3a-431d-b15d-c0a2daeac75b",
   "metadata": {},
   "outputs": [],
   "source": []
  },
  {
   "cell_type": "code",
   "execution_count": null,
   "id": "df842989-9071-4996-bfe9-0efe1689d9d9",
   "metadata": {},
   "outputs": [],
   "source": []
  },
  {
   "cell_type": "code",
   "execution_count": null,
   "id": "59049249-b9aa-4044-977d-88c023291666",
   "metadata": {},
   "outputs": [],
   "source": []
  },
  {
   "cell_type": "code",
   "execution_count": null,
   "id": "e46d204b-e3a5-4c2f-9cbe-2506ad067fd2",
   "metadata": {},
   "outputs": [],
   "source": []
  },
  {
   "cell_type": "code",
   "execution_count": null,
   "id": "7b006ed8-b78e-47c5-b13c-d2984c2904bc",
   "metadata": {},
   "outputs": [],
   "source": []
  },
  {
   "cell_type": "code",
   "execution_count": null,
   "id": "594ea2cb-9d8c-4412-88e6-a18cdb917a1c",
   "metadata": {},
   "outputs": [],
   "source": []
  },
  {
   "cell_type": "code",
   "execution_count": null,
   "id": "04153a9d-6781-4c82-98a2-9dd0d140a346",
   "metadata": {},
   "outputs": [],
   "source": []
  },
  {
   "cell_type": "code",
   "execution_count": null,
   "id": "a4e377f0-45e5-4e09-a508-8caea66553a3",
   "metadata": {},
   "outputs": [],
   "source": []
  },
  {
   "cell_type": "code",
   "execution_count": null,
   "id": "4d66558e-4cf6-4549-bad6-dd7c99118a0c",
   "metadata": {},
   "outputs": [],
   "source": []
  },
  {
   "cell_type": "code",
   "execution_count": null,
   "id": "dc8f386c-7759-44eb-946f-012e75ab767e",
   "metadata": {},
   "outputs": [],
   "source": []
  },
  {
   "cell_type": "code",
   "execution_count": null,
   "id": "abfd64d0-0e28-469d-9ced-60f8ff9bd3e0",
   "metadata": {},
   "outputs": [],
   "source": []
  },
  {
   "cell_type": "code",
   "execution_count": null,
   "id": "f508030f-4c97-4a0b-af84-1bcb2e7b923f",
   "metadata": {},
   "outputs": [],
   "source": []
  },
  {
   "cell_type": "code",
   "execution_count": null,
   "id": "e28e76de-48e0-48df-829d-caa28918d3dc",
   "metadata": {},
   "outputs": [],
   "source": []
  },
  {
   "cell_type": "code",
   "execution_count": null,
   "id": "d0635403-0a7a-422d-8b15-0b313a6fb702",
   "metadata": {},
   "outputs": [],
   "source": []
  },
  {
   "cell_type": "code",
   "execution_count": null,
   "id": "f60fbb18-e360-4a04-8a2b-9f5017e98665",
   "metadata": {},
   "outputs": [],
   "source": []
  },
  {
   "cell_type": "code",
   "execution_count": null,
   "id": "c6336190-6ca5-46e1-bc6e-901d48b7480a",
   "metadata": {},
   "outputs": [],
   "source": []
  }
 ],
 "metadata": {
  "kernelspec": {
   "display_name": "Python 3 (ipykernel)",
   "language": "python",
   "name": "python3"
  },
  "language_info": {
   "codemirror_mode": {
    "name": "ipython",
    "version": 3
   },
   "file_extension": ".py",
   "mimetype": "text/x-python",
   "name": "python",
   "nbconvert_exporter": "python",
   "pygments_lexer": "ipython3",
   "version": "3.9.13"
  }
 },
 "nbformat": 4,
 "nbformat_minor": 5
}
